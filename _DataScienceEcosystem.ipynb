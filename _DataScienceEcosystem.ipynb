{
 "cells": [
  {
   "cell_type": "markdown",
   "id": "72a6545c-b85e-4134-a9b7-20b6cfcc9cc9",
   "metadata": {},
   "source": [
    "# Data Science Tools and Ecosystem"
   ]
  },
  {
   "cell_type": "markdown",
   "id": "586f0e69-b723-4b79-b77a-2e51f2c5d2d4",
   "metadata": {},
   "source": [
    "In this notebook, Data Science Tools and Ecosystem are summarized."
   ]
  },
  {
   "cell_type": "markdown",
   "id": "bfcb8654-5f02-44d8-90ed-4c79c701d104",
   "metadata": {},
   "source": [
    "**Objectives:**\n",
    "\n",
    "\n",
    "* Most popular languages in Data Sceince\n",
    "\n",
    "* List of libraries in Data Science \n",
    "\n",
    "* Some of Open Source Developments Environment tools list\n",
    "\n",
    "* Mathematical expression "
   ]
  },
  {
   "cell_type": "markdown",
   "id": "0ff7ef02-4db2-4260-883f-46eeec8c66b1",
   "metadata": {},
   "source": [
    "Some of the popular languages that Data Scientists use are:\n",
    "\n",
    "1. Python\n",
    "2. R \n",
    "3. SQL\n",
    "4. Scala"
   ]
  },
  {
   "cell_type": "markdown",
   "id": "d52be50f-09b7-4ebb-8d9e-069ce9c0b721",
   "metadata": {
    "jp-MarkdownHeadingCollapsed": true,
    "tags": []
   },
   "source": [
    "Some of the commonly used libraries used by Data Scientists include:\n",
    "\n",
    "1. Pandas\n",
    "2. Numpy\n",
    "3. Matplotlib\n",
    "4. Sci-Kitlearn\n",
    "5. Tensorflow"
   ]
  },
  {
   "cell_type": "markdown",
   "id": "508e0b69-f100-4c15-8299-2510ea2b2770",
   "metadata": {},
   "source": [
    "| Data Science Tools|\n",
    "|-------------------|\n",
    "| Jupyter Notebooks |\n",
    "| R Studio          |\n",
    "| Apache Zepplin    | "
   ]
  },
  {
   "cell_type": "markdown",
   "id": "e394f123-3ff6-4d8a-a584-0f3b81d194e9",
   "metadata": {},
   "source": [
    "### Below are a few examples of evaluating arithmetic expressions in Python"
   ]
  },
  {
   "cell_type": "code",
   "execution_count": 1,
   "id": "0f133a22-65e9-4cba-90a0-d073c8c78f60",
   "metadata": {},
   "outputs": [
    {
     "data": {
      "text/plain": [
       "17"
      ]
     },
     "execution_count": 1,
     "metadata": {},
     "output_type": "execute_result"
    }
   ],
   "source": [
    "### This a simple arithmetic expression to mutiply then add integers\n",
    "(3*4)+5"
   ]
  },
  {
   "cell_type": "code",
   "execution_count": 2,
   "id": "c8717137-179f-4884-ae82-d647849b26c1",
   "metadata": {},
   "outputs": [
    {
     "data": {
      "text/plain": [
       "3.3333333333333335"
      ]
     },
     "execution_count": 2,
     "metadata": {},
     "output_type": "execute_result"
    }
   ],
   "source": [
    "### This will convert 200 minutes to hours by diving by 60\n",
    "200/60"
   ]
  },
  {
   "cell_type": "markdown",
   "id": "9216dc45-b916-40ef-9ff0-c05d34546081",
   "metadata": {},
   "source": [
    "## Author\n",
    "\n",
    "Sk. Ferdous Hossain"
   ]
  },
  {
   "cell_type": "code",
   "execution_count": null,
   "id": "d8a61ee9-caef-419d-afc2-2c84316a8869",
   "metadata": {},
   "outputs": [],
   "source": []
  }
 ],
 "metadata": {
  "kernelspec": {
   "display_name": "Python",
   "language": "python",
   "name": "conda-env-python-py"
  },
  "language_info": {
   "codemirror_mode": {
    "name": "ipython",
    "version": 3
   },
   "file_extension": ".py",
   "mimetype": "text/x-python",
   "name": "python",
   "nbconvert_exporter": "python",
   "pygments_lexer": "ipython3",
   "version": "3.7.12"
  }
 },
 "nbformat": 4,
 "nbformat_minor": 5
}
